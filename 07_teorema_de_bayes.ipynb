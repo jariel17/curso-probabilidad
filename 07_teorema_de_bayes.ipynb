{
 "cells": [
  {
   "attachments": {},
   "cell_type": "markdown",
   "metadata": {},
   "source": [
    "# Teorema de Bayes\n",
    "\n",
    "### $$  \\underbrace{P(A|B)}_{\\text{posteriori}} = \\frac{ \\overbrace{P(B|A)}^{\\text{verosimilitud}} \\overbrace{P(|A)}^{\\text{priori}} } { \\underbrace{P(B)}_{\\text{evidencia}}  }   $$"
   ]
  },
  {
   "attachments": {},
   "cell_type": "markdown",
   "metadata": {},
   "source": [
    "### MAP: Maximum a posteriori\n",
    "\n",
    "$$ \\max{P(h|D)} \\rightarrow \\max{P(D|h)P(h)} $$"
   ]
  }
 ],
 "metadata": {
  "language_info": {
   "name": "python"
  },
  "orig_nbformat": 4
 },
 "nbformat": 4,
 "nbformat_minor": 2
}
