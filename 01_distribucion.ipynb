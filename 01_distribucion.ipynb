{
 "cells": [
  {
   "attachments": {},
   "cell_type": "markdown",
   "metadata": {},
   "source": [
    "# ¿Qué es una distribución?\n",
    "\n",
    " Es la forma en que los valores o eventos están dispuestos o distribuidos en un conjunto de datos. Representa la probabilidad o frecuencia relativa de ocurrencia de diferentes valores o eventos."
   ]
  },
  {
   "attachments": {},
   "cell_type": "markdown",
   "metadata": {},
   "source": [
    "$ P(X = x) $\n",
    "\n",
    "$ P = f(X) $\n",
    "\n",
    "Sea X una variable aleatoria $\\implies$ P(X) es una función llamada distribución de probabilidad o densidad de probabilidad. \n",
    "Esta probabilidad puede ser discreta o continua."
   ]
  },
  {
   "attachments": {},
   "cell_type": "markdown",
   "metadata": {},
   "source": [
    "¿Cuál es la probabilidad de que la variable X tome un valor específico x?\n",
    "$ P(X = x) = ? $"
   ]
  },
  {
   "attachments": {},
   "cell_type": "markdown",
   "metadata": {},
   "source": [
    "¿Cuál es la probabilidad de que la variable X tome un valor menor o igual que x?\n",
    "$ P(X \\le x) = ? $\n",
    "\n",
    "Cuando x no es número sino un rango entonces es una probabilidad acumulada, se le conoce como C(x)\n",
    "\n",
    "$ P(X \\le x) =  \\displaystyle\\int_{X \\le x}P(X)dX = C(x) \\gets $ funcion de probabilidad acumulada"
   ]
  },
  {
   "attachments": {},
   "cell_type": "markdown",
   "metadata": {},
   "source": [
    "El razonamiento anterior también funciona para funciones discretas.\n",
    "Para calcular la probabilidad acumulada de cantidades discretas no se usan integrales, sino sumas discretas:\n",
    "\n",
    "$ P(X\\le x ) = \\displaystyle\\sum_{X\\le x}P(X)$\n",
    "\n",
    "Fórmula que corresponde a la probabilidad acumulada"
   ]
  },
  {
   "attachments": {},
   "cell_type": "markdown",
   "metadata": {},
   "source": [
    "$ P(a \\le X \\le b) = \\displaystyle\\int_{a}^{b} P(X)dX = A(b) - A(a) = C(x)$"
   ]
  },
  {
   "attachments": {},
   "cell_type": "markdown",
   "metadata": {},
   "source": [
    "## Distribución de Bernoulli\n",
    "\n",
    "Es una distribución para variables binarias\n",
    "\n",
    "$ P(X=1)=p $\n",
    "\n",
    "$ P(X=0)=1-p $"
   ]
  },
  {
   "attachments": {},
   "cell_type": "markdown",
   "metadata": {},
   "source": [
    "### Distribución binomial\n",
    "\n",
    "Es una secuencia repetitiva de eventos tipo Bernoulli"
   ]
  },
  {
   "attachments": {},
   "cell_type": "markdown",
   "metadata": {},
   "source": [
    "La probabilidad de un suceso en particular es igual al número de estados de ese suceso multiplicado por la probabilidad de cada uno de esos estados."
   ]
  },
  {
   "attachments": {},
   "cell_type": "markdown",
   "metadata": {},
   "source": [
    "Combinatorio\n",
    "$$ \\binom{n}{k} = \\frac{n!}{k!(n-k)!} $$"
   ]
  },
  {
   "attachments": {},
   "cell_type": "markdown",
   "metadata": {},
   "source": [
    "P(k caras | n lanzamientos) = P(k;n,p)\n",
    "\n",
    "$$ \\boxed{P(k;n,p)=\\dbinom{n}{k}p^k(1-p)^{(n-k)}} $$"
   ]
  }
 ],
 "metadata": {
  "language_info": {
   "name": "python"
  },
  "orig_nbformat": 4
 },
 "nbformat": 4,
 "nbformat_minor": 2
}
