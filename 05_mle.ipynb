{
 "cells": [
  {
   "attachments": {},
   "cell_type": "markdown",
   "metadata": {},
   "source": [
    "# MLE: Maximum Likelihood Estimation (Estimación de máxima verosimilitud)\n",
    "\n",
    "Es una técnica que nos permite _estimar_ densidades de probabilidad de un conjunto de datos.\n",
    "\n",
    "Su objetivo es buscar la forma más óptima de ajustar una distribución a los datos.\n",
    "\n",
    "Puntos clave:\n",
    "\n",
    "- Escoger una distribución: Teniendo solo una muestra de datos.\n",
    "\n",
    "- Escoger los parámetros de la distribución: Que ajusten mejor la distribución a los datos."
   ]
  },
  {
   "attachments": {},
   "cell_type": "markdown",
   "metadata": {},
   "source": [
    "Un problema fundamental del MLE es que no tenemos la población total de los datos, sino solamente una muestra de ellos.\n",
    "\n",
    "\n",
    "MLE es un problema de optimización."
   ]
  }
 ],
 "metadata": {
  "language_info": {
   "name": "python"
  },
  "orig_nbformat": 4
 },
 "nbformat": 4,
 "nbformat_minor": 2
}
